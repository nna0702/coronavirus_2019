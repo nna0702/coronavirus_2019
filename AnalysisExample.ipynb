{
 "cells": [
  {
   "cell_type": "code",
   "execution_count": null,
   "metadata": {
    "collapsed": true
   },
   "outputs": [],
   "source": [
    "import analysis\n",
    "%matplotlib inline"
   ]
  },
  {
   "cell_type": "code",
   "execution_count": null,
   "metadata": {
    "scrolled": false
   },
   "outputs": [],
   "source": [
    "data = analysis.get_data()\n",
    "analysis.plot_case_by_country(data, 'Italy', None)\n",
    "analysis.plot_active_cases(data, 'China', 'Hubei')\n",
    "analysis.plot_new_cases(data, 'United Kingdom', None)\n",
    "analysis.plot_first(data, 100, 'confirmed', 'Vietnam', None)\n",
    "analysis.plot_compare_first(data, 100, 'confirmed', ['US', 'United Kingdom', 'Singapore',\n",
    "                                           'China', 'Italy', 'Korea, South',\n",
    "                                           'Germany', 'Iran', 'Vietnam'])\n",
    "analysis.plot_compare_first(data, 25, 'death', ['US', 'United Kingdom', 'Singapore',\n",
    "                                       'China', 'Italy', 'Korea, South',\n",
    "                                       'Germany', 'Iran', 'Vietnam'])"
   ]
  }
 ],
 "metadata": {
  "kernelspec": {
   "display_name": "Python 3",
   "language": "python",
   "name": "python3"
  },
  "language_info": {
   "codemirror_mode": {
    "name": "ipython",
    "version": 3
   },
   "file_extension": ".py",
   "mimetype": "text/x-python",
   "name": "python",
   "nbconvert_exporter": "python",
   "pygments_lexer": "ipython3",
   "version": "3.6.1"
  }
 },
 "nbformat": 4,
 "nbformat_minor": 2
}
